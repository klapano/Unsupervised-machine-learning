{
 "cells": [
  {
   "cell_type": "markdown",
   "id": "a524beb4",
   "metadata": {},
   "source": [
    "1) Converting data types:\n",
    "\n",
    "For example, if you have a column in your dataset that contains string data but the machine learning model you have chosen requires numerical data, you can use the astype() function from the pandas library in python to convert the data to a numerical data type"
   ]
  },
  {
   "cell_type": "code",
   "execution_count": null,
   "id": "4368156a",
   "metadata": {},
   "outputs": [],
   "source": [
    "import pandas as pd\n",
    "data = pd.DataFrame({\"age\": [\"25\", \"30\", \"35\", \"40\"]})\n",
    "data[\"age\"] = data[\"age\"].astype(int)\n"
   ]
  },
  {
   "cell_type": "markdown",
   "id": "67a1d1ce",
   "metadata": {},
   "source": [
    "2) Normalizing numerical data:\n",
    "\n",
    "For example, if you have numerical data that is on different scales, you can use normalization techniques to scale the data to a common scale. This can be done using the MinMaxScaler or StandardScaler classes from the scikit-learn library in python."
   ]
  },
  {
   "cell_type": "code",
   "execution_count": null,
   "id": "af28bf9a",
   "metadata": {},
   "outputs": [],
   "source": [
    "from sklearn.preprocessing import MinMaxScaler\n",
    "scaler = MinMaxScaler()\n",
    "data_scaled = scaler.fit_transform(data)\n"
   ]
  },
  {
   "cell_type": "code",
   "execution_count": null,
   "id": "e927a265",
   "metadata": {},
   "outputs": [],
   "source": [
    "from sklearn.preprocessing import StandardScaler\n",
    "scaler = StandardScaler()\n",
    "data_scaled = scaler.fit_transform(data)\n"
   ]
  },
  {
   "cell_type": "markdown",
   "id": "820b611a",
   "metadata": {},
   "source": [
    "3) Encoding categorical variables refers to the process of converting categorical data (data that can be divided into categories) into numerical data. This is important because many machine learning algorithms only work with numerical data, and cannot process categorical data directly."
   ]
  },
  {
   "cell_type": "markdown",
   "id": "0e49008c",
   "metadata": {},
   "source": [
    "# here it starts the analysis for encoding categorical variables"
   ]
  },
  {
   "cell_type": "markdown",
   "id": "75950f60",
   "metadata": {},
   "source": [
    "There are several techniques for encoding categorical variables, including:\n",
    "\n",
    "Label Encoding: This technique assigns a unique integer value to each category. For example, if we have a categorical variable with three categories: \"red\", \"green\", and \"blue\", label encoding would assign the values 0, 1, and 2 to each category respectively."
   ]
  },
  {
   "cell_type": "code",
   "execution_count": null,
   "id": "9dce721a",
   "metadata": {},
   "outputs": [],
   "source": [
    "from sklearn.preprocessing import LabelEncoder\n",
    "\n",
    "# create the encoder\n",
    "encoder = LabelEncoder()\n",
    "\n",
    "# fit the encoder on the categorical data\n",
    "encoder.fit(data)\n",
    "\n",
    "# transform the data\n",
    "data_encoded = encoder.transform(data)\n"
   ]
  },
  {
   "cell_type": "markdown",
   "id": "dd998814",
   "metadata": {},
   "source": [
    "One-hot Encoding: This technique creates a binary column for each category, with a value of 1 indicating that the observation belongs to that category, and a value of 0 indicating that it does not. For example, if we have a categorical variable with three categories: \"red\", \"green\", and \"blue\", one-hot encoding would create three binary columns: \"is_red\", \"is_green\", and \"is_blue\"."
   ]
  },
  {
   "cell_type": "code",
   "execution_count": null,
   "id": "2bd61f69",
   "metadata": {},
   "outputs": [],
   "source": [
    "from sklearn.preprocessing import OneHotEncoder\n",
    "\n",
    "# create the encoder\n",
    "encoder = OneHotEncoder()\n",
    "\n",
    "# fit the encoder on the categorical data\n",
    "encoder.fit(data)\n",
    "\n",
    "# transform the data\n",
    "data_encoded = encoder.transform(data)\n"
   ]
  },
  {
   "cell_type": "raw",
   "id": "6fc2e16e",
   "metadata": {},
   "source": [
    "It's important to note that, One-hot Encoding creates a sparse matrix, which can consume a lot of memory, there is a variation of One-hot Encoding called Dummy Encoding, this technique creates a binary column for each category, but it doesn't return a sparse matrix, which is less memory-consuming."
   ]
  },
  {
   "cell_type": "markdown",
   "id": "4dc42bb0",
   "metadata": {},
   "source": [
    "# create the dummy variables"
   ]
  },
  {
   "cell_type": "code",
   "execution_count": null,
   "id": "9bc9e9ba",
   "metadata": {},
   "outputs": [],
   "source": [
    "data_encoded = pd.get_dummies(data)\n",
    "#Here, the data that passed to the pd.get_dummies() function is data"
   ]
  },
  {
   "cell_type": "code",
   "execution_count": null,
   "id": "b56448b1",
   "metadata": {},
   "outputs": [],
   "source": [
    "data_encoded = encoder.transform(data)\n",
    "#Here, the data that passed to the encoder object is data and the encoder used is the one that was defined previously \n",
    "#(either LabelEncoder or OneHotEncoder)"
   ]
  },
  {
   "cell_type": "markdown",
   "id": "6c7637e8",
   "metadata": {},
   "source": [
    "It's worth noting that,  the choice of encoding technique depends on the specific problem and dataset, and it's important to evaluate the performance of the model and compare it with other methods to ensure that it's the best fit for the problem at hand.\n",
    "\n",
    "It's also important to note that, when working with categorical variables, you should avoid using ordinal encoding, as it implies an ordinal relationship between the categories, which may not be true.\n",
    "\n",
    "Finally, it's a good practice to keep the original categorical data and use the encoded data only for training the model. This will make it easier to interpret the results and make predictions on new data."
   ]
  },
  {
   "cell_type": "markdown",
   "id": "b5cf2538",
   "metadata": {},
   "source": [
    "# -------------------------------------------------------------------------------------------------------------------------------"
   ]
  },
  {
   "cell_type": "markdown",
   "id": "6bf8565d",
   "metadata": {},
   "source": [
    "The transform() function is a method of the encoder objects (LabelEncoder or OneHotEncoder) that applies the encoding to a new set of data. It takes a single input, which is the data that needs to be encoded, and returns the encoded data as output.\n",
    "\n",
    "For example, if we have a dataset with a categorical variable called \"color\" that has the values \"red\", \"green\", and \"blue\", and we want to encode this variable using the LabelEncoder, we would first fit the encoder on the data, then use the transform() method to encode the data:"
   ]
  },
  {
   "cell_type": "code",
   "execution_count": null,
   "id": "a2e69565",
   "metadata": {},
   "outputs": [],
   "source": [
    "# create the encoder\n",
    "encoder = LabelEncoder()\n",
    "\n",
    "# fit the encoder on the categorical data\n",
    "encoder.fit(data[\"color\"])\n",
    "\n",
    "# transform the data\n",
    "data[\"color_encoded\"] = encoder.transform(data[\"color\"])\n"
   ]
  },
  {
   "cell_type": "markdown",
   "id": "b75047e5",
   "metadata": {},
   "source": [
    "Here, the fit() method is used to learn the mapping from categories to integers, and the transform() method is used to apply this mapping to a new set of data.\n",
    "\n",
    "It's worth noting that, the transform() method can only be used after the encoder has been fit on some data using the fit() method. And the input passed to the transform() method should have the same number of columns and the same categorical variables as the input passed to the fit() method."
   ]
  },
  {
   "cell_type": "code",
   "execution_count": null,
   "id": "c4aacb67",
   "metadata": {},
   "outputs": [],
   "source": []
  }
 ],
 "metadata": {
  "kernelspec": {
   "display_name": "Python 3 (ipykernel)",
   "language": "python",
   "name": "python3"
  },
  "language_info": {
   "codemirror_mode": {
    "name": "ipython",
    "version": 3
   },
   "file_extension": ".py",
   "mimetype": "text/x-python",
   "name": "python",
   "nbconvert_exporter": "python",
   "pygments_lexer": "ipython3",
   "version": "3.8.10"
  }
 },
 "nbformat": 4,
 "nbformat_minor": 5
}
